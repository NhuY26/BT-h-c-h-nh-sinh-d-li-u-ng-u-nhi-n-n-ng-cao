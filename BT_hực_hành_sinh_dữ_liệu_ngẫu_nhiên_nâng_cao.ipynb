{
  "nbformat": 4,
  "nbformat_minor": 0,
  "metadata": {
    "colab": {
      "name": "BT hực hành sinh dữ liệu ngẫu nhiên nâng cao.ipynb",
      "provenance": [],
      "authorship_tag": "ABX9TyPDZdYP5dRfrSsdbYnL9hhP",
      "include_colab_link": true
    },
    "kernelspec": {
      "name": "python3",
      "display_name": "Python 3"
    },
    "language_info": {
      "name": "python"
    }
  },
  "cells": [
    {
      "cell_type": "markdown",
      "metadata": {
        "id": "view-in-github",
        "colab_type": "text"
      },
      "source": [
        "<a href=\"https://colab.research.google.com/github/NhuY26/BT-h-c-h-nh-sinh-d-li-u-ng-u-nhi-n-n-ng-cao/blob/main/BT_h%E1%BB%B1c_h%C3%A0nh_sinh_d%E1%BB%AF_li%E1%BB%87u_ng%E1%BA%ABu_nhi%C3%AAn_n%C3%A2ng_cao.ipynb\" target=\"_parent\"><img src=\"https://colab.research.google.com/assets/colab-badge.svg\" alt=\"Open In Colab\"/></a>"
      ]
    },
    {
      "cell_type": "code",
      "execution_count": 1,
      "metadata": {
        "id": "DuazxVrjccy-"
      },
      "outputs": [],
      "source": [
        "#Sử dụng thư viện Numpy\n",
        "#Sinh mẫu ngẫu nhiên bằng hàm arange trong khoảng [-15, 27] với khoảng cách là 0.7 và in kết quả ra màn hình\n",
        "\n",
        "import numpy as np"
      ]
    },
    {
      "cell_type": "code",
      "source": [
        "samples = np.arange(-15,27,0.7)\n",
        "print(samples)"
      ],
      "metadata": {
        "colab": {
          "base_uri": "https://localhost:8080/"
        },
        "id": "TstL5SBncyFx",
        "outputId": "1ababd58-4386-44f8-8648-82cc5caa3db3"
      },
      "execution_count": 2,
      "outputs": [
        {
          "output_type": "stream",
          "name": "stdout",
          "text": [
            "[-15.  -14.3 -13.6 -12.9 -12.2 -11.5 -10.8 -10.1  -9.4  -8.7  -8.   -7.3\n",
            "  -6.6  -5.9  -5.2  -4.5  -3.8  -3.1  -2.4  -1.7  -1.   -0.3   0.4   1.1\n",
            "   1.8   2.5   3.2   3.9   4.6   5.3   6.    6.7   7.4   8.1   8.8   9.5\n",
            "  10.2  10.9  11.6  12.3  13.   13.7  14.4  15.1  15.8  16.5  17.2  17.9\n",
            "  18.6  19.3  20.   20.7  21.4  22.1  22.8  23.5  24.2  24.9  25.6  26.3\n",
            "  27. ]\n"
          ]
        }
      ]
    },
    {
      "cell_type": "code",
      "source": [
        "#Sinh mẫu ngẫu nhiên theo phân phối chuẩn với mean = 2.7 std = 1.2 và size = 40 In kết quả ra màn hình\n",
        "\n",
        "samples_1 = np.random.normal(2.7,1.2,40)\n",
        "print(samples_1)"
      ],
      "metadata": {
        "colab": {
          "base_uri": "https://localhost:8080/"
        },
        "id": "X813SraSczsL",
        "outputId": "775efc6a-0634-4277-a075-2f42d3fc6c3a"
      },
      "execution_count": 3,
      "outputs": [
        {
          "output_type": "stream",
          "name": "stdout",
          "text": [
            "[4.52273211 1.09480649 1.78417729 4.82069541 4.88487116 2.13216675\n",
            " 1.9747218  1.18872184 2.63889045 0.8272562  2.78484329 2.90209679\n",
            " 2.78319708 1.36183998 4.04046283 2.4488447  3.94466372 2.75331439\n",
            " 3.38393283 0.75277894 1.31186899 1.34461251 3.99510917 3.52025241\n",
            " 3.7063005  3.44272948 3.47970044 2.81765038 3.244185   3.29747769\n",
            " 2.62689591 1.78245001 4.27630618 1.39707335 3.82964957 1.14197375\n",
            " 3.24131381 3.08100146 2.98788349 3.33188566]\n"
          ]
        }
      ]
    },
    {
      "cell_type": "code",
      "source": [
        "#Sinh mẫu ngẫu nhiên từ vector ['Viet Nam', 'Britain', 'France', 'Russia', 'Singapore'] với kích thước là 17 theo phân phối chuẩn\n",
        "\n",
        "np.random.choice(['Viet Nam', 'Britain', 'France', 'Russia', 'Singapore'],size = 17)"
      ],
      "metadata": {
        "colab": {
          "base_uri": "https://localhost:8080/"
        },
        "id": "oRHa1mP_dEoK",
        "outputId": "02b7dd7c-6010-4474-c0c5-8aa3e7e9bde6"
      },
      "execution_count": 4,
      "outputs": [
        {
          "output_type": "execute_result",
          "data": {
            "text/plain": [
              "array(['Viet Nam', 'France', 'France', 'France', 'Russia', 'Russia',\n",
              "       'Russia', 'Viet Nam', 'France', 'Russia', 'Viet Nam', 'Singapore',\n",
              "       'Viet Nam', 'Britain', 'Singapore', 'Britain', 'Viet Nam'],\n",
              "      dtype='<U9')"
            ]
          },
          "metadata": {},
          "execution_count": 4
        }
      ]
    },
    {
      "cell_type": "code",
      "source": [
        "# 4. Sinh mẫu ngẫu nhiên ở câu 3 nhưng không theo phân phối chuẩn mà theo 1 vector đặc tả giá trị xác suất do bạn chọn\n",
        "\n",
        "np.random.choice(['Viet Nam', 'Britain', 'France', 'Russia', 'Singapore'],size = 17, p = [0.4,0.1,0.2,0.1,0.2])"
      ],
      "metadata": {
        "colab": {
          "base_uri": "https://localhost:8080/"
        },
        "id": "JJRl1TbldKsZ",
        "outputId": "0d2645c0-3629-4b8a-eac5-0928c729729d"
      },
      "execution_count": 5,
      "outputs": [
        {
          "output_type": "execute_result",
          "data": {
            "text/plain": [
              "array(['Viet Nam', 'Viet Nam', 'Singapore', 'Viet Nam', 'France',\n",
              "       'Viet Nam', 'Britain', 'Viet Nam', 'Viet Nam', 'France',\n",
              "       'Viet Nam', 'Viet Nam', 'Britain', 'Britain', 'Singapore',\n",
              "       'France', 'France'], dtype='<U9')"
            ]
          },
          "metadata": {},
          "execution_count": 5
        }
      ]
    },
    {
      "cell_type": "code",
      "source": [
        "#Sử dụng thư việc scipy.stats để sinh mẫu ngẫu nhiên\n",
        "#Sinh mẫu ngẫu nhiên theo phân phối chuẩn với mean = 12.7, std = 2.6 và size = 30. In kết quả ra màn hình\n",
        "\n",
        "from scipy import stats\n"
      ],
      "metadata": {
        "id": "3uHlqPTYdQm9"
      },
      "execution_count": 7,
      "outputs": []
    },
    {
      "cell_type": "code",
      "source": [
        "stats.norm.rvs(loc = 12.7, scale = 2.6, size = 30)"
      ],
      "metadata": {
        "colab": {
          "base_uri": "https://localhost:8080/"
        },
        "id": "DWOgJVILdZd5",
        "outputId": "8e47b7c9-2b8b-4feb-c6bf-133d0bd91e37"
      },
      "execution_count": 8,
      "outputs": [
        {
          "output_type": "execute_result",
          "data": {
            "text/plain": [
              "array([12.35466847,  9.27125309, 12.40155108, 12.18919812, 16.3704392 ,\n",
              "       15.45021907, 17.37089064, 13.32600195, 15.76090425, 13.34688379,\n",
              "       15.69591119,  8.75624536, 12.56772778, 16.14353002, 11.90964623,\n",
              "       18.07826598, 12.20845404, 15.45324277, 10.12961382, 15.09884899,\n",
              "       13.18700351, 10.47845787, 16.02192493, 13.29952428, 14.25453256,\n",
              "       10.30884042, 12.92152334, 15.10244937, 10.33069771, 13.03482315])"
            ]
          },
          "metadata": {},
          "execution_count": 8
        }
      ]
    },
    {
      "cell_type": "code",
      "source": [
        "#Hãy sinh một mẫu ngẫu nhiên theo phân phối Poisson\n",
        "\n",
        "np.random.seed(10)\n",
        "a = stats.poisson.rvs(mu = 100, size = 100)\n",
        "print(a)"
      ],
      "metadata": {
        "colab": {
          "base_uri": "https://localhost:8080/"
        },
        "id": "fDcUhuEuddhW",
        "outputId": "fa1dd269-a3ff-45e5-d6a3-b7b03435b659"
      },
      "execution_count": 9,
      "outputs": [
        {
          "output_type": "stream",
          "name": "stdout",
          "text": [
            "[108 104 100  90  89 110 107 117 101  96  98 103 104 110 116  84  86  77\n",
            " 101  90  96  94  95  97 110  97 111 103 101  74  83  95  94  95 114 114\n",
            " 103 103  94  94 102  99  95  94 102  81 109 102  96  94 105  78  85 114\n",
            "  91  85  99  88 104  92  91 117 102 102 102 102  88 106  98 100  84 102\n",
            "  90  94 107  97 111 109 103 103 108  99  99  89 112  99  86  84  82 102\n",
            " 105  96 110  97  97 111 100  91 128 113]\n"
          ]
        }
      ]
    }
  ]
}